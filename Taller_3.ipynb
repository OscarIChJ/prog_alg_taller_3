{
  "nbformat": 4,
  "nbformat_minor": 0,
  "metadata": {
    "colab": {
      "provenance": [],
      "authorship_tag": "ABX9TyMuQ741FyJzgad2aezsKIEh",
      "include_colab_link": true
    },
    "kernelspec": {
      "name": "python3",
      "display_name": "Python 3"
    },
    "language_info": {
      "name": "python"
    }
  },
  "cells": [
    {
      "cell_type": "markdown",
      "metadata": {
        "id": "view-in-github",
        "colab_type": "text"
      },
      "source": [
        "<a href=\"https://colab.research.google.com/github/OscarIChJ/prog_alg_taller_3/blob/main/Taller_3.ipynb\" target=\"_parent\"><img src=\"https://colab.research.google.com/assets/colab-badge.svg\" alt=\"Open In Colab\"/></a>"
      ]
    },
    {
      "cell_type": "code",
      "execution_count": null,
      "metadata": {
        "id": "Dbn06555cOqn"
      },
      "outputs": [],
      "source": []
    },
    {
      "cell_type": "markdown",
      "source": [
        "#Sintaxis Basica de Python\n",
        "##Oscar Ivan Chima Jimenez\n",
        "##Id: 000501416\n",
        "##email: Oscar.chima@upb.edu.co\n",
        "##Marlon Villalba Berriio\n",
        "##Id:000488445\n",
        "##email: marlon.villalba@upb.edu.co"
      ],
      "metadata": {
        "id": "mJFQOwv8Ezaq"
      }
    },
    {
      "cell_type": "code",
      "source": [],
      "metadata": {
        "id": "2eGIs6YdFR2K"
      },
      "execution_count": null,
      "outputs": []
    },
    {
      "cell_type": "markdown",
      "source": [
        "##PROBLEMA 1\n",
        "Calcular y mostrar la posición de una partícula que experimenta movimiento uniformemente acelerado a partir de su posición inicial(𝑥0), velocidad inicial(𝑣0)y aceleración(𝑎) en dos instantes de tiempo diferentes.La posición en un instante de tiempo está stá dada por:\n",
        "#Xo = 68\n",
        "#Vo = 45\n",
        "#a  = 20\n",
        "#t  = 5\n",
        "#X =  Xo + Vo + 1/2 * a t ** 2\n",
        "\n",
        "\n",
        "\n"
      ],
      "metadata": {
        "id": "FFOsBXn1FToE"
      }
    },
    {
      "cell_type": "code",
      "source": [
        "x0 = 68\n",
        "v0 = 45\n",
        "a = 20\n",
        "t = 5\n",
        "x = x0 + v0 + 1/2 * a * t ** 2\n",
        "float(input(\"ingrese el valor de la posicion inicial: \"))\n",
        "float(input(\"ingrese el valor de la velocidad inicial:\"))\n",
        "float(input(\"ingrese el valor de la aceleracion:\"))\n",
        "float(input(\"ingrese el valor del tiempo\"))\n",
        "print(\"la posicion de la particula con posicion inicial\", (str(x0)), \"velocidad inicial\", (str(v0)), \"aceleracion\", (str(a)), \"tiempo\", (str(t)),\"es\",str(x))"
      ],
      "metadata": {
        "colab": {
          "base_uri": "https://localhost:8080/"
        },
        "id": "D7yjAavbN0Gx",
        "outputId": "77965093-28d6-4a07-b769-c36b42d48464"
      },
      "execution_count": null,
      "outputs": [
        {
          "output_type": "stream",
          "name": "stdout",
          "text": [
            "ingrese el valor de la posicion inicial: 68\n",
            "ingrese el valor de la velocidad inicial:45\n",
            "ingrese el valor de la aceleracion:20\n",
            "ingrese el valor del tiempo5\n",
            "la posicion de la particula con posicion inicial 68 velocidad inicial 45 aceleracion 20 tiempo 5 es 363.0\n"
          ]
        }
      ]
    },
    {
      "cell_type": "markdown",
      "source": [
        "##Problema 2\n",
        "Calcular y mostrar la distancia entre dos puntos 𝑃1y 𝑃2 ubicados en las coordenadas (𝑥1,𝑦1)y (𝑥2,𝑦2). La distancia euclidiana se calcula con la ecuación:\n",
        "\n",
        "# 𝑑=√(𝑥2−𝑥1)2+(𝑦2−𝑦1)2\n",
        "\n"
      ],
      "metadata": {
        "id": "cVxur7TuVLXa"
      }
    },
    {
      "cell_type": "code",
      "source": [
        "import math\n",
        "x1 = float(input(\"Ingrese la coordenada x1: \"))\n",
        "y1 = float(input(\"Ingrese la coordenada y1: \"))\n",
        "x2 = float(input(\"Ingrese la coordenada x2: \"))\n",
        "y2 = float(input(\"Ingrese la coordenada y2: \"))\n",
        "\n",
        "distance = math.sqrt((x2 - x1)**2 + (y2 - y1)**2)\n",
        "print(\"La distancia entre los dos puntos es:\", distance)"
      ],
      "metadata": {
        "colab": {
          "base_uri": "https://localhost:8080/"
        },
        "id": "Cb5gYw5AWXuz",
        "outputId": "6ef85350-c515-4695-e383-a1228a810ea2"
      },
      "execution_count": null,
      "outputs": [
        {
          "output_type": "stream",
          "name": "stdout",
          "text": [
            "Ingrese la coordenada x1: 12.5\n",
            "Ingrese la coordenada y1: 16.4\n",
            "Ingrese la coordenada x2: 22.8\n",
            "Ingrese la coordenada y2: 14.5\n",
            "La distancia entre los dos puntos es: 10.47377677822093\n"
          ]
        }
      ]
    },
    {
      "cell_type": "code",
      "source": [],
      "metadata": {
        "id": "ERA0R_N2SX2I"
      },
      "execution_count": null,
      "outputs": []
    },
    {
      "cell_type": "markdown",
      "source": [
        "##Problema 3\n",
        " Calcular y mostrar el valor del volumen de un cilindro cuyo radio y altura sean ingresados por el usuario. El volumen de un cilindro está dado por:\n",
        "# V=𝜋𝑟2ℎ\n",
        "Donde 𝜋=3.141592, 𝑟 es el radio y ℎ la altura."
      ],
      "metadata": {
        "id": "I_dv6ndXb_sG"
      }
    },
    {
      "cell_type": "code",
      "source": [
        "radio = float(input(\"Ingrese el valor del radio  \"))\n",
        "altura = float(input(\"Ingrese el valor de la altura \"))\n",
        "\n",
        "# Definir el valor de pi\n",
        "pi = 3.141592\n",
        "\n",
        "# Calcular el volumen del cilindro usando la fórmula V = pi * r^2 * h\n",
        "volumen = pi * (radio ** 2) * altura\n",
        "\n",
        "# Mostrar el resultado\n",
        "print(f\"El volumen del cilindro con radio {radio} y altura {altura} es: {volumen}\")"
      ],
      "metadata": {
        "colab": {
          "base_uri": "https://localhost:8080/"
        },
        "id": "yi0U35X7cNlL",
        "outputId": "64f17db5-4f7d-4026-bb42-5d38d0221bec"
      },
      "execution_count": null,
      "outputs": [
        {
          "output_type": "stream",
          "name": "stdout",
          "text": [
            "Ingrese el valor del radio  12\n",
            "Ingrese el valor de la altura 24\n",
            "El volumen del cilindro con radio 12.0 y altura 24.0 es: 10857.341952\n"
          ]
        }
      ]
    },
    {
      "cell_type": "markdown",
      "source": [
        "##Problema 4\n",
        "Calcular y mostrarel resultado de las siguientes operaciones lógicas:\n",
        "#1.A > By B > D\n",
        "#2.B <=Co C < D\n",
        "#3.A = B y B > C\n",
        "#4.A < C o B < C\n",
        "#5.A + D < Cy B > 5\n",
        "#6.D –C >= -A*B\n",
        "#7.D * C ==5 o C * A > 9\n",
        "#8.A * B + C> -D * 10"
      ],
      "metadata": {
        "id": "L5EaaGBIdaaQ"
      }
    },
    {
      "cell_type": "code",
      "source": [
        "# Definir los valores de A, B, C y D\n",
        "A = 12\n",
        "B = 9\n",
        "C = 16\n",
        "D = 99\n",
        "# 1. A > B y B > D\n",
        "resultado1 = A > B and B > D\n",
        "\n",
        "# 2. B <= C o C < D\n",
        "resultado2 = B <= C or C < D\n",
        "\n",
        "# 3. A = B y B > C\n",
        "resultado3 = A == B and B > C\n",
        "\n",
        "# 4. A < C o B < C\n",
        "resultado4 = A < C or B < C\n",
        "\n",
        "# 5. A + D < C y B > 5\n",
        "resultado5 = A + D < C and B > 5.4\n",
        "\n",
        "# 6. D - C >= -A * B\n",
        "resultado6 = D - C >= -A * B\n",
        "\n",
        "# 7. D * C == 5 o C * A > 9\n",
        "resultado7 = D * C == 5 or C * A > 9\n",
        "\n",
        "# 8. A * B + C > -D * 10\n",
        "resultado8 = A * B + C > -D * 10\n",
        "\n",
        "# Mostrar los resultados\n",
        "print(\"Resultado 1:\", resultado1)\n",
        "print(\"Resultado 2:\", resultado2)\n",
        "print(\"Resultado 3:\", resultado3)\n",
        "print(\"Resultado 4:\", resultado4)\n",
        "print(\"Resultado 5:\", resultado5)\n",
        "print(\"Resultado 6:\", resultado6)\n",
        "print(\"Resultado 7:\", resultado7)\n",
        "print(\"Resultado 8:\", resultado8)"
      ],
      "metadata": {
        "colab": {
          "base_uri": "https://localhost:8080/"
        },
        "id": "B3cb06jmdLdS",
        "outputId": "cec711b5-67ea-49cd-ea9e-58e0929d64d2"
      },
      "execution_count": null,
      "outputs": [
        {
          "output_type": "stream",
          "name": "stdout",
          "text": [
            "Resultado 1: False\n",
            "Resultado 2: True\n",
            "Resultado 3: False\n",
            "Resultado 4: True\n",
            "Resultado 5: False\n",
            "Resultado 6: True\n",
            "Resultado 7: True\n",
            "Resultado 8: True\n"
          ]
        }
      ]
    },
    {
      "cell_type": "code",
      "source": [],
      "metadata": {
        "id": "SXB7qdLeeqTZ"
      },
      "execution_count": null,
      "outputs": []
    }
  ]
}